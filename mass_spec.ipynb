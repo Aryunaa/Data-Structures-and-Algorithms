{
 "cells": [
  {
   "cell_type": "markdown",
   "metadata": {},
   "source": [
    "## 2.1 Вычислительная масс-спектрометрия\n",
    "\n",
    "Задача: для данного пептида сгенерировать его теоретический спектр.\n",
    "\n",
    "Вход: строка в алфавите аминокислот (Peptide).\n",
    "\n",
    "Выход: набор целых чисел через пробел – теоретический спектр Peptide.\n",
    "\n",
    " \n",
    "\n",
    "Примечание 1: здесь и далее мы будем считать, что массы аминокислот целочисленные, а заряд спектра +1. В своей программе вы можете использовать следующие вектора (массивы), хранящие однобуквенные обозначения аминокислот и их целочисленные массы, соответственно:\n",
    "\n",
    "alphabet = ['A','C','D','E','F','G','H','I','K','L','M','N','P','Q','R','S','T','V','W','Y'] \n",
    "masses = [71, 103, 115, 129, 147, 57, 137, 113, 128, 113, 131, 114, 97, 128, 156, 87, 101, 99, 186, 163]\n",
    "Обратите внимание, что массы 'I' и 'L' (113), а также массы 'K' и 'Q' (128) совпадают.\n",
    "\n",
    "Примечание 2: не забудьте включить в теоретический спектр массу 0 и массу всего пептида. Кроме того, теоретический спектр не должен содержать масс-дубликатов и должен быть отсортирован по возрастанию массы.\n",
    "\n",
    "Sample Input:\n",
    "\n",
    "REDCA\n",
    "Sample Output:\n",
    "\n",
    "0 71 156 174 285 289 400 418 503 574"
   ]
  },
  {
   "cell_type": "code",
   "execution_count": 19,
   "metadata": {},
   "outputs": [
    {
     "name": "stdout",
     "output_type": "stream",
     "text": [
      "0 71 156 174 285 289 400 418 503 574\n"
     ]
    }
   ],
   "source": [
    "alphabet = ['A','C','D','E','F','G','H','I','K','L','M','N','P','Q','R','S','T','V','W','Y'] \n",
    "masses = [71, 103, 115, 129, 147, 57, 137, 113, 128, 113, 131, 114, 97, 128, 156, 87, 101, 99, 186, 163]\n",
    "\n",
    "def cyclic_spectrum(peptide):\n",
    "    spectrum = [0]\n",
    "    n = len(peptide)\n",
    "    peptide_masses = [0]\n",
    "    \n",
    "    \n",
    "    for i in range(n):\n",
    "        \n",
    "        prefix = peptide[:i]\n",
    "        suffix = peptide[i:]\n",
    "\n",
    "        pre_weight = sum([masses[alphabet.index(x)] for x in prefix])\n",
    "        suf_weight = sum([masses[alphabet.index(x)] for x in suffix])\n",
    "\n",
    "        spectrum += [pre_weight, suf_weight]\n",
    "\n",
    "    \n",
    "    return sorted(set(spectrum[1:]))\n",
    "    \n",
    "    \n",
    "\n",
    "     \n",
    "\n",
    "# Пример входных данных\n",
    "peptide = input().strip()\n",
    "\n",
    "#peptide = 'REDCA'\n",
    "# Получение теоретического спектра\n",
    "theoretical_spectrum = cyclic_spectrum(peptide)\n",
    "\n",
    "# Вывод результатов\n",
    "print(\" \".join(map(str, theoretical_spectrum)))\n"
   ]
  },
  {
   "cell_type": "code",
   "execution_count": 23,
   "metadata": {},
   "outputs": [
    {
     "name": "stdout",
     "output_type": "stream",
     "text": [
      "{'A': 71, 'C': 103, 'D': 115, 'E': 129, 'F': 147, 'G': 57, 'H': 137, 'I': 113, 'K': 128, 'L': 113, 'M': 131, 'N': 114, 'P': 97, 'Q': 128, 'R': 156, 'S': 87, 'T': 101, 'V': 99, 'W': 186, 'Y': 163}\n"
     ]
    }
   ],
   "source": [
    "mass_dict = dict(zip(alphabet, masses))\n",
    "\n",
    "print(mass_dict)"
   ]
  },
  {
   "cell_type": "code",
   "execution_count": 12,
   "metadata": {},
   "outputs": [
    {
     "data": {
      "text/plain": [
       "71"
      ]
     },
     "execution_count": 12,
     "metadata": {},
     "output_type": "execute_result"
    }
   ],
   "source": [
    "masses[alphabet.index('A')]"
   ]
  },
  {
   "cell_type": "markdown",
   "metadata": {},
   "source": [
    "## Задача: по данному идеальному спектру Spectrum найти пептид Peptide, который его мог породить.\n",
    "\n",
    "Вход: набор целых чисел через пробел – теоретический спектр Peptide.\n",
    "\n",
    "Выход: строка в алфавите аминокислот (Peptide).\n",
    "\n",
    " \n",
    "\n",
    "Примечание 1: первая масса в Spectrum всегда 0, последняя масса всегда обозначает массу всего спектра, т.е. всего Peptide.\n",
    "\n",
    "Примечание 2: если у задачи больше одного решения, то выведите одно любое.\n",
    "\n",
    "Sample Input:\n",
    "\n",
    "0 71 156 174 285 289 400 418 503 574\n",
    "\n",
    "\n",
    "Sample Output:\n",
    "\n",
    "ACDER"
   ]
  },
  {
   "cell_type": "code",
   "execution_count": 24,
   "metadata": {},
   "outputs": [
    {
     "data": {
      "text/plain": [
       "{71: 'A',\n",
       " 103: 'C',\n",
       " 115: 'D',\n",
       " 129: 'E',\n",
       " 147: 'F',\n",
       " 57: 'G',\n",
       " 137: 'H',\n",
       " 113: 'L',\n",
       " 128: 'Q',\n",
       " 131: 'M',\n",
       " 114: 'N',\n",
       " 97: 'P',\n",
       " 156: 'R',\n",
       " 87: 'S',\n",
       " 101: 'T',\n",
       " 99: 'V',\n",
       " 186: 'W',\n",
       " 163: 'Y'}"
      ]
     },
     "execution_count": 24,
     "metadata": {},
     "output_type": "execute_result"
    }
   ],
   "source": [
    "DISTINCT_MASSES = {\n",
    "    'G': 57, 'A': 71, 'S': 87, 'P': 97, 'V': 99, 'T': 101, 'C': 103, 'L': 113, 'N': 114, 'D': 115,\n",
    "    'Q': 128, 'E': 129, 'M': 131, 'H': 137, 'F': 147, 'R': 156, 'Y': 163, 'W': 186\n",
    "}\n",
    "\n",
    "mass_dict = dict(zip(alphabet, masses))\n",
    "\n",
    "alphdict_by_mass = {y: x for x, y in mass_dict.items()}\n",
    "\n",
    "alphdict_by_mass "
   ]
  },
  {
   "cell_type": "code",
   "execution_count": 5,
   "metadata": {},
   "outputs": [
    {
     "name": "stdout",
     "output_type": "stream",
     "text": [
      "ACDER\n"
     ]
    }
   ],
   "source": [
    "from collections import defaultdict\n",
    "\n",
    "\n",
    "alphabet = ['A','C','D','E','F','G','H','I','K','L','M','N','P','Q','R','S','T','V','W','Y'] \n",
    "masses = [71, 103, 115, 129, 147, 57, 137, 113, 128, 113, 131, 114, 97, 128, 156, 87, 101, 99, 186, 163]\n",
    "\n",
    "mass_dict = dict(zip(alphabet, masses))\n",
    "\n",
    "alphdict_by_mass = {y: x for x, y in mass_dict.items()}\n",
    "\n",
    "\n",
    "def ideal_spectrum(peptide):\n",
    "    spectrum = []\n",
    "\n",
    "    for i in range(len(peptide)):\n",
    "        prefix = peptide[:i]\n",
    "        suffix = peptide[i:]\n",
    "\n",
    "        pre_weight = sum([masses[alphabet.index(x)] for x in prefix])\n",
    "        suf_weight = sum([masses[alphabet.index(x)] for x in suffix])\n",
    "\n",
    "        spectrum += [pre_weight, suf_weight]\n",
    "\n",
    "    \n",
    "    return sorted(set(spectrum[1:]))\n",
    "\n",
    "def graph_of_spectrum(spectrum):\n",
    "    graph = dict()\n",
    "\n",
    "    for i, weight in enumerate(spectrum):\n",
    "        graph[weight] = dict()\n",
    "        for n_weight in spectrum[i + 1:]:\n",
    "            gap = n_weight - weight\n",
    "            if gap in alphdict_by_mass:\n",
    "                graph[weight][n_weight] = alphdict_by_mass[gap]\n",
    "\n",
    "    return graph\n",
    "\n",
    "def graph_reversal(graph):\n",
    "    reversed_graph = defaultdict(dict)\n",
    "    for key in graph:\n",
    "        for child in graph[key]:\n",
    "            reversed_graph[child][key] = graph[key][child]\n",
    "\n",
    "    return reversed_graph\n",
    "\n",
    "def construct_peptide(graph, node, peptide, spectrum):\n",
    "    if node == 0:\n",
    "        candidate_spectrum = ideal_spectrum(peptide)\n",
    "        if candidate_spectrum == spectrum:\n",
    "            # print(peptide)\n",
    "            return peptide[::-1]\n",
    "\n",
    "    else:\n",
    "        for parent in graph[node]:\n",
    "            parent_peptide = peptide + graph[node][parent]\n",
    "            found_pep = construct_peptide(graph, parent, parent_peptide, spectrum)\n",
    "            if found_pep is not None:\n",
    "                return found_pep\n",
    "\n",
    "def decode_ideal_spectrum(spectrum):\n",
    "    graph = graph_of_spectrum(spectrum)\n",
    "    reverse_graph = graph_reversal(graph)\n",
    "\n",
    "    end_node = spectrum[-1]\n",
    "    peptide = \"\"\n",
    "\n",
    "    peptide = construct_peptide(reverse_graph, end_node, peptide, spectrum[1:])\n",
    "    return peptide\n",
    "\n",
    "spectrum = list(map(int, input().strip().split()))\n",
    "#spectrum = list(map(int, '0 71 156 174 285 289 400 418 503 574'.strip().split())) \n",
    "peptide = decode_ideal_spectrum(spectrum)\n",
    "print(peptide)"
   ]
  },
  {
   "cell_type": "markdown",
   "metadata": {},
   "source": [
    "## Задача: в протеоме найти пептид, который наилучшим образом соответствует заданному спектру,\n",
    " т.е. имеет максимальную оценку среди всех (подходящих по массе) пептидов из протеома. \n",
    "\n",
    "Вход: спектральный вектор Spectrum' (набор целых чисел через пробел) и строка в алфавите аминокислот Proteome.\n",
    "\n",
    "Выход: подстрока Proteome с максимальной оценкой относительно Spectrum'.\n",
    "\n",
    " \n",
    "\n",
    "Примечание 1: на вход подается спектральный вектор Spectrum' = s1 ... sm, который не включает нулевой элемент; при написании программы учитывайте, что s0 = 0. Масса спектра, а также подходящая масса пептида, равны m (число символов во входном спектральном векторе).\n",
    "\n",
    "Примечание 2: в примере ниже для простоты используется алфавит из двух несуществующих аминокислот: 'X' массы 4 и 'Z' массы 5. В реальных заданиях протеом будет записан в алфавите из 20 стандартных аминокислот и может достигать в длину несколько тысяч символов. К сожалению, из-за особенностей Stepik, если мы показываем какой-то пример как тестовый, то ваша программа должна уметь его решать. Таким образом, вам надо предусмотреть в программе режим работы с алфавитом {'X', 'Z'} , например, как-то так:\n",
    "\n",
    "def get_AA_letters_masses():\n",
    "    letters = ['A', 'C', 'D', 'E', 'F', 'G', 'H', 'I', 'K', 'L', 'M', 'N', 'P', 'Q', 'R', 'S', 'T', 'V', 'W', 'Y']\n",
    "    masses = [71, 103, 115, 129, 147, 57, 137, 113, 128, 113, 131, 114, 97, 128, 156, 87, 101, 99, 186, 163]\n",
    "    return letters, masses\n",
    "\n",
    "def get_XZ_letters_masses():\n",
    "    letters = ['X', 'Z']\n",
    "    masses = [4, 5]\n",
    "    return letters, masses\n",
    "\n",
    "...\n",
    "\n",
    "if len(spectral_vector) > 30: # ключевое место для различия между \"тестовым примером\" и \"реальным\"\n",
    "     letters, masses = get_AA_letters_masses()\n",
    " else:\n",
    "     letters, masses = get_XZ_letters_masses()\n",
    "\n",
    "print(best_protein(proteome, spectral_vector, letters, masses))\n",
    "Sample Input:\n",
    "\n",
    "0 0 0 4 -2 -3 -1 -7 6 5 3 2 1 9 3 -8 0 3 1 2 1 8\n",
    "XZZXZXXXZXZZXZXXZ\n",
    "Sample Output:\n",
    "\n",
    "ZXZXX"
   ]
  },
  {
   "cell_type": "code",
   "execution_count": 8,
   "metadata": {},
   "outputs": [],
   "source": [
    "\n",
    "d = ideal_spectrum('IKLMN')\n"
   ]
  },
  {
   "cell_type": "code",
   "execution_count": 20,
   "metadata": {},
   "outputs": [
    {
     "name": "stdout",
     "output_type": "stream",
     "text": [
      "ZXZXX\n"
     ]
    }
   ],
   "source": [
    "# делаю нормльно!\n",
    "\n",
    "\n",
    "import numpy as np\n",
    "\n",
    "def get_AA_letters_masses():\n",
    "    letters = ['A', 'C', 'D', 'E', 'F', 'G', 'H', 'I', 'K', 'L', 'M', 'N', 'P', 'Q', 'R', 'S', 'T', 'V', 'W', 'Y']\n",
    "    masses = [71, 103, 115, 129, 147, 57, 137, 113, 128, 113, 131, 114, 97, 128, 156, 87, 101, 99, 186, 163]\n",
    "    return dict(zip(letters, masses))\n",
    "\n",
    "def get_XZ_letters_masses():\n",
    "    letters = ['X', 'Z']\n",
    "    masses = [4, 5]\n",
    "    return dict(zip(letters, masses))\n",
    "\n",
    "def peptide_to_vector(peptide):\n",
    "    vector = []\n",
    "    for i in peptide:\n",
    "        pep_vector = [0] * mass_dict[i]\n",
    "        pep_vector[-1] = 1\n",
    "        vector += pep_vector\n",
    "\n",
    "    return vector\n",
    "\n",
    "\n",
    "def peptide_identification(spectrum_vector, proteome):\n",
    "    peptide_len = len(spectrum_vector)\n",
    "    weight_vector = [mass_dict[x] for x in proteome]\n",
    "\n",
    "    best_peptide = None\n",
    "    best_score = -np.inf\n",
    "    i = 0\n",
    "    j = 0\n",
    "\n",
    "    while j < len(proteome):\n",
    "        peptide_weight = sum(weight_vector[i:j])\n",
    "        if peptide_weight < peptide_len:\n",
    "            j += 1\n",
    "        elif peptide_weight > peptide_len:\n",
    "            i += 1\n",
    "        else:\n",
    "            candidate_peptide = proteome[i:j]\n",
    "            peptide_vector = peptide_to_vector(candidate_peptide)\n",
    "            score = np.dot(peptide_vector, spectrum_vector)\n",
    "            if score > best_score:\n",
    "                best_score = score\n",
    "                best_peptide = candidate_peptide\n",
    "\n",
    "            i += 1\n",
    "\n",
    "    return best_peptide, best_score\n",
    "\n",
    "#spectrum_vector = list(map(int, input().strip().split()))\n",
    "#spectrum_vector = d\n",
    "spectrum_vector = list(map(int, '0 0 0 4 -2 -3 -1 -7 6 5 3 2 1 9 3 -8 0 3 1 2 1 8'.strip().split()))\n",
    "#proteome = 'MNKLLLIKLMNMNKLLLMNKLLL'\n",
    "proteome = 'XZZXZXXXZXZZXZXXZ'\n",
    "\n",
    "if len(set(proteome)) > 2: # ключевое место для различия между \"тестовым примером\" и \"реальным\"\n",
    "    mass_dict = get_AA_letters_masses()\n",
    "else:\n",
    "    mass_dict = get_XZ_letters_masses()\n",
    "\n",
    "\n",
    "alphdict_by_mass = {y: x for x, y in mass_dict.items()}\n",
    "best_peptide = peptide_identification(spectrum_vector, proteome)\n",
    "print(best_peptide[0])\n"
   ]
  },
  {
   "cell_type": "code",
   "execution_count": 14,
   "metadata": {},
   "outputs": [
    {
     "data": {
      "text/plain": [
       "2"
      ]
     },
     "execution_count": 14,
     "metadata": {},
     "output_type": "execute_result"
    }
   ],
   "source": [
    "len(set(proteome))\n",
    "len(set('XZZXZXXXZXZZXZXXZ'))"
   ]
  }
 ],
 "metadata": {
  "kernelspec": {
   "display_name": "Python 3",
   "language": "python",
   "name": "python3"
  },
  "language_info": {
   "codemirror_mode": {
    "name": "ipython",
    "version": 3
   },
   "file_extension": ".py",
   "mimetype": "text/x-python",
   "name": "python",
   "nbconvert_exporter": "python",
   "pygments_lexer": "ipython3",
   "version": "3.9.7"
  }
 },
 "nbformat": 4,
 "nbformat_minor": 2
}
