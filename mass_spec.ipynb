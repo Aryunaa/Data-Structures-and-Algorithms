{
 "cells": [
  {
   "cell_type": "markdown",
   "metadata": {},
   "source": [
    "## 2.1 Вычислительная масс-спектрометрия\n",
    "\n",
    "Задача: для данного пептида сгенерировать его теоретический спектр.\n",
    "\n",
    "Вход: строка в алфавите аминокислот (Peptide).\n",
    "\n",
    "Выход: набор целых чисел через пробел – теоретический спектр Peptide.\n",
    "\n",
    " \n",
    "\n",
    "Примечание 1: здесь и далее мы будем считать, что массы аминокислот целочисленные, а заряд спектра +1. В своей программе вы можете использовать следующие вектора (массивы), хранящие однобуквенные обозначения аминокислот и их целочисленные массы, соответственно:\n",
    "\n",
    "alphabet = ['A','C','D','E','F','G','H','I','K','L','M','N','P','Q','R','S','T','V','W','Y'] \n",
    "masses = [71, 103, 115, 129, 147, 57, 137, 113, 128, 113, 131, 114, 97, 128, 156, 87, 101, 99, 186, 163]\n",
    "Обратите внимание, что массы 'I' и 'L' (113), а также массы 'K' и 'Q' (128) совпадают.\n",
    "\n",
    "Примечание 2: не забудьте включить в теоретический спектр массу 0 и массу всего пептида. Кроме того, теоретический спектр не должен содержать масс-дубликатов и должен быть отсортирован по возрастанию массы.\n",
    "\n",
    "Sample Input:\n",
    "\n",
    "REDCA\n",
    "Sample Output:\n",
    "\n",
    "0 71 156 174 285 289 400 418 503 574"
   ]
  },
  {
   "cell_type": "code",
   "execution_count": 18,
   "metadata": {},
   "outputs": [
    {
     "ename": "TypeError",
     "evalue": "'NoneType' object is not iterable",
     "output_type": "error",
     "traceback": [
      "\u001b[0;31m---------------------------------------------------------------------------\u001b[0m",
      "\u001b[0;31mTypeError\u001b[0m                                 Traceback (most recent call last)",
      "\u001b[0;32m/tmp/ipykernel_2463/1114196374.py\u001b[0m in \u001b[0;36m<module>\u001b[0;34m\u001b[0m\n\u001b[1;32m     30\u001b[0m \u001b[0;31m#peptide = 'REDCA'\u001b[0m\u001b[0;34m\u001b[0m\u001b[0;34m\u001b[0m\u001b[0m\n\u001b[1;32m     31\u001b[0m \u001b[0;31m# Получение теоретического спектра\u001b[0m\u001b[0;34m\u001b[0m\u001b[0;34m\u001b[0m\u001b[0m\n\u001b[0;32m---> 32\u001b[0;31m \u001b[0mtheoretical_spectrum\u001b[0m \u001b[0;34m=\u001b[0m \u001b[0mcyclic_spectrum\u001b[0m\u001b[0;34m(\u001b[0m\u001b[0mpeptide\u001b[0m\u001b[0;34m)\u001b[0m\u001b[0;34m\u001b[0m\u001b[0;34m\u001b[0m\u001b[0m\n\u001b[0m\u001b[1;32m     33\u001b[0m \u001b[0;34m\u001b[0m\u001b[0m\n\u001b[1;32m     34\u001b[0m \u001b[0;31m# Вывод результатов\u001b[0m\u001b[0;34m\u001b[0m\u001b[0;34m\u001b[0m\u001b[0m\n",
      "\u001b[0;32m/tmp/ipykernel_2463/1114196374.py\u001b[0m in \u001b[0;36mcyclic_spectrum\u001b[0;34m(peptide)\u001b[0m\n\u001b[1;32m     18\u001b[0m         \u001b[0mspectrum\u001b[0m \u001b[0;34m+=\u001b[0m \u001b[0;34m[\u001b[0m\u001b[0mpre_weight\u001b[0m\u001b[0;34m,\u001b[0m \u001b[0msuf_weight\u001b[0m\u001b[0;34m]\u001b[0m\u001b[0;34m\u001b[0m\u001b[0;34m\u001b[0m\u001b[0m\n\u001b[1;32m     19\u001b[0m \u001b[0;34m\u001b[0m\u001b[0m\n\u001b[0;32m---> 20\u001b[0;31m     \u001b[0mset\u001b[0m\u001b[0;34m(\u001b[0m\u001b[0mspectrum\u001b[0m\u001b[0;34m.\u001b[0m\u001b[0msort\u001b[0m\u001b[0;34m(\u001b[0m\u001b[0;34m)\u001b[0m\u001b[0;34m)\u001b[0m\u001b[0;34m\u001b[0m\u001b[0;34m\u001b[0m\u001b[0m\n\u001b[0m\u001b[1;32m     21\u001b[0m     \u001b[0;32mreturn\u001b[0m \u001b[0mspectrum\u001b[0m\u001b[0;34m[\u001b[0m\u001b[0;36m1\u001b[0m\u001b[0;34m:\u001b[0m\u001b[0;34m]\u001b[0m\u001b[0;34m\u001b[0m\u001b[0;34m\u001b[0m\u001b[0m\n\u001b[1;32m     22\u001b[0m \u001b[0;34m\u001b[0m\u001b[0m\n",
      "\u001b[0;31mTypeError\u001b[0m: 'NoneType' object is not iterable"
     ]
    }
   ],
   "source": [
    "alphabet = ['A','C','D','E','F','G','H','I','K','L','M','N','P','Q','R','S','T','V','W','Y'] \n",
    "masses = [71, 103, 115, 129, 147, 57, 137, 113, 128, 113, 131, 114, 97, 128, 156, 87, 101, 99, 186, 163]\n",
    "\n",
    "def cyclic_spectrum(peptide):\n",
    "    spectrum = [0]\n",
    "    n = len(peptide)\n",
    "    peptide_masses = [0]\n",
    "    \n",
    "    \n",
    "    for i in range(n):\n",
    "        \n",
    "        prefix = peptide[:i]\n",
    "        suffix = peptide[i:]\n",
    "\n",
    "        pre_weight = sum([masses[alphabet.index(x)] for x in prefix])\n",
    "        suf_weight = sum([masses[alphabet.index(x)] for x in suffix])\n",
    "\n",
    "        spectrum += [pre_weight, suf_weight]\n",
    "\n",
    "    \n",
    "    return sorted(set(spectrum[1:]))\n",
    "    \n",
    "    \n",
    "\n",
    "     \n",
    "\n",
    "# Пример входных данных\n",
    "peptide = input().strip()\n",
    "\n",
    "#peptide = 'REDCA'\n",
    "# Получение теоретического спектра\n",
    "theoretical_spectrum = cyclic_spectrum(peptide)\n",
    "\n",
    "# Вывод результатов\n",
    "print(\" \".join(map(str, theoretical_spectrum)))\n"
   ]
  },
  {
   "cell_type": "markdown",
   "metadata": {},
   "source": []
  },
  {
   "cell_type": "code",
   "execution_count": 12,
   "metadata": {},
   "outputs": [
    {
     "data": {
      "text/plain": [
       "71"
      ]
     },
     "execution_count": 12,
     "metadata": {},
     "output_type": "execute_result"
    }
   ],
   "source": [
    "masses[alphabet.index('A')]"
   ]
  },
  {
   "cell_type": "code",
   "execution_count": null,
   "metadata": {},
   "outputs": [],
   "source": []
  }
 ],
 "metadata": {
  "kernelspec": {
   "display_name": "Python 3",
   "language": "python",
   "name": "python3"
  },
  "language_info": {
   "codemirror_mode": {
    "name": "ipython",
    "version": 3
   },
   "file_extension": ".py",
   "mimetype": "text/x-python",
   "name": "python",
   "nbconvert_exporter": "python",
   "pygments_lexer": "ipython3",
   "version": "3.9.7"
  }
 },
 "nbformat": 4,
 "nbformat_minor": 2
}
