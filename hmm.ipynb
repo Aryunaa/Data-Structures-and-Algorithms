{
 "cells": [
  {
   "cell_type": "markdown",
   "metadata": {},
   "source": [
    "## Первое задание"
   ]
  },
  {
   "cell_type": "markdown",
   "metadata": {},
   "source": [
    "GC состав промоутерных регионов генома отличается от остальных областей (https://doi.org/10.1007/s00018-003-3088-6). В данном задании мы смоделируем эту ситуацию используя HMM. Задана скрытая марковская модель с двумя скрытыми состояниями (промоутерная и НЕ-промоутерная область генома) и четыре наблюдаемых состояния – нуклеотиды в последовательности (A, G, C, T). Вероятность перехода из промоутера в НЕ-промоутер равняется 0.1, в обратную сторону 0.2. Выходные вероятности в промоутерном регионе равны A=T=0.1, C=G=0.4; для НЕ-промоутерного региона A=T=0.3, C=G=0.2. Начальные состояния системы равновероятны."
   ]
  },
  {
   "attachments": {
    "image.png": {
     "image/png": "[encoded data removed]"
    }
   },
   "cell_type": "markdown",
   "metadata": {},
   "source": [
    "![image.png](attachment:image.png)"
   ]
  },
  {
   "cell_type": "markdown",
   "metadata": {},
   "source": [
    "На вход подается наблюдаемая последовательность нуклеотидов. Выведите вероятность получения такой последовательности при заданной модели. Ваш ответ должен отличаться от верного не больше чем на 1e-10.\n",
    "\n",
    "Sample Input:\n",
    "\n",
    "ATCG\n",
    "\n",
    "\n",
    "Sample Output:\n",
    "\n",
    "0.0036420000"
   ]
  },
  {
   "cell_type": "code",
   "execution_count": 1,
   "metadata": {},
   "outputs": [],
   "source": [
    "import numpy as np"
   ]
  },
  {
   "cell_type": "code",
   "execution_count": 11,
   "metadata": {},
   "outputs": [
    {
     "data": {
      "text/plain": [
       "0.9"
      ]
     },
     "execution_count": 11,
     "metadata": {},
     "output_type": "execute_result"
    }
   ],
   "source": [
    "A[0][0]"
   ]
  },
  {
   "cell_type": "code",
   "execution_count": 13,
   "metadata": {},
   "outputs": [
    {
     "data": {
      "text/plain": [
       "0.1"
      ]
     },
     "execution_count": 13,
     "metadata": {},
     "output_type": "execute_result"
    }
   ],
   "source": [
    "A[1][0]"
   ]
  },
  {
   "cell_type": "code",
   "execution_count": 15,
   "metadata": {},
   "outputs": [
    {
     "name": "stdout",
     "output_type": "stream",
     "text": [
      "0.0036420000000000003\n"
     ]
    }
   ],
   "source": [
    "# pp np-p, p-np np-np \n",
    "A = np.array([[0.9,0.2],[0.1,0.8]])\n",
    "# prom - c g a t , np -  c g a t\n",
    "#B = np.array([0.4, 0.4, 0.1, 0.1],[0.2, 0.2, 0.3, 0.3])\n",
    "seq1 = 'ATCG'\n",
    "bkeys_prom = {'C':0.4, 'G':0.4, 'A':0.1, 'T':0.1 }\n",
    "bkeys_np = {'C':0.2, 'G':0.2, 'A':0.3, 'T':0.3 }\n",
    "# тут  будет использоваться алгоритм backward-forward, суммироваться альфа коэф. \n",
    "\n",
    "def alpha(t=1, porn='p', seq='ATCG'):\n",
    "    \n",
    "    if(t==1):\n",
    "        j = seq[0]\n",
    "        alpha_p = 0.5*bkeys_prom[j]\n",
    "        alpha_n = 0.5*bkeys_np[j]\n",
    "        if porn=='p':\n",
    "            return alpha_p\n",
    "        else:\n",
    "            return alpha_n\n",
    "    else:\n",
    "        #i = seq[t-2]\n",
    "        j = seq[t-1]\n",
    "        alpha_p = alpha(t-1,porn='p',seq =seq )*A[0][0]*bkeys_prom[j] + alpha(t-1, 'np', seq = seq )*A[0][1]*bkeys_prom[j]\n",
    "        alpha_n = alpha(t-1,porn='p', seq = seq )*A[1][0]*bkeys_np[j] + alpha(t-1, 'np', seq = seq )*A[1][1]*bkeys_np[j] \n",
    "        if porn=='p':\n",
    "            return alpha_p\n",
    "        else:\n",
    "            return alpha_n     \n",
    "    \n",
    "ap = alpha(t=len(seq1), porn='p', seq = seq1)\n",
    "anp =  alpha(t=len(seq1), porn='np', seq = seq1)  \n",
    "\n",
    "a = ap + anp\n",
    "print(a)       \n",
    "\n"
   ]
  },
  {
   "cell_type": "code",
   "execution_count": 17,
   "metadata": {},
   "outputs": [
    {
     "name": "stdout",
     "output_type": "stream",
     "text": [
      "0.0036420000000000003\n"
     ]
    }
   ],
   "source": [
    "# чистовой код\n",
    "import numpy as np\n",
    "# pp np-p, p-np np-np \n",
    "A = np.array([[0.9,0.2],[0.1,0.8]])\n",
    "\n",
    "seq1 = input()\n",
    "bkeys_prom = {'C':0.4, 'G':0.4, 'A':0.1, 'T':0.1 }\n",
    "bkeys_np = {'C':0.2, 'G':0.2, 'A':0.3, 'T':0.3 }\n",
    "# тут  будет использоваться алгоритм backward-forward, суммироваться альфа коэф. \n",
    "\n",
    "def alpha(t=1, porn='p', seq='ATCG'):\n",
    "    \n",
    "    if(t==1):\n",
    "        j = seq[0]\n",
    "        alpha_p = 0.5*bkeys_prom[j]\n",
    "        alpha_n = 0.5*bkeys_np[j]\n",
    "        if porn=='p':\n",
    "            return alpha_p\n",
    "        else:\n",
    "            return alpha_n\n",
    "    else:\n",
    "        #i = seq[t-2]\n",
    "        j = seq[t-1]\n",
    "        alpha_p = alpha(t-1,porn='p',seq =seq )*A[0][0]*bkeys_prom[j] + alpha(t-1, 'np', seq = seq )*A[0][1]*bkeys_prom[j]\n",
    "        alpha_n = alpha(t-1,porn='p', seq = seq )*A[1][0]*bkeys_np[j] + alpha(t-1, 'np', seq = seq )*A[1][1]*bkeys_np[j] \n",
    "        if porn=='p':\n",
    "            return alpha_p\n",
    "        else:\n",
    "            return alpha_n     \n",
    "    \n",
    "ap = alpha(t=len(seq1), porn='p', seq = seq1)\n",
    "anp =  alpha(t=len(seq1), porn='np', seq = seq1)  \n",
    "\n",
    "a = ap + anp\n",
    "print(a)       \n",
    "\n"
   ]
  },
  {
   "cell_type": "markdown",
   "metadata": {},
   "source": [
    "## Задание 2"
   ]
  },
  {
   "cell_type": "markdown",
   "metadata": {},
   "source": [
    "На вход подается наблюдаемая последовательность нуклеотидов. Выведите наиболее вероятную последовательность скрытых состояний используя алгоритм Витерби. Выведите 'P' для состояния промоутер и 'N' для состояния НЕ-промоутер.\n",
    "\n",
    "Sample Input:\n",
    "\n",
    "ATCG\n",
    "\n",
    "Sample Output:\n",
    "\n",
    "NNPP"
   ]
  },
  {
   "cell_type": "code",
   "execution_count": 52,
   "metadata": {},
   "outputs": [
    {
     "data": {
      "text/plain": [
       "0"
      ]
     },
     "execution_count": 52,
     "metadata": {},
     "output_type": "execute_result"
    }
   ],
   "source": [
    "def argmax(iterable):\n",
    "    return max(enumerate(iterable), key=lambda x: x[1])[0]\n",
    "argmax(A[0])"
   ]
  },
  {
   "cell_type": "code",
   "execution_count": 72,
   "metadata": {},
   "outputs": [
    {
     "name": "stdout",
     "output_type": "stream",
     "text": [
      "NNPP"
     ]
    }
   ],
   "source": [
    "# put your python code here\n",
    "import numpy as np\n",
    "\n",
    "def viterbi_algorithm(A, B, pi, seq):\n",
    "    T = len(seq)\n",
    "    N = len(A)\n",
    "    \n",
    "    delta = np.zeros((T, N))\n",
    "    psi = np.zeros((T, N), dtype=int)\n",
    "    \n",
    "    # Вычисление значений в первой ячейке массива delta\n",
    "    for i in range(N):\n",
    "        delta[0][i] = pi[i] * B[seq[0]][i]\n",
    "    \n",
    "    # Вычисление delta и psi для каждого i\n",
    "    for t in range(1, T):\n",
    "        for j in range(N):\n",
    "            delta[t][j], psi[t][j] = max((delta[t-1][i] * A[i][j] * B[seq[t]][j], i) for i in range(N))\n",
    "    \n",
    "    # Поиск максимального значения delta в последнем столбце\n",
    "    max_prob = max(delta[T-1])\n",
    "    \n",
    "    # Возвращаемая последовательность скрытых состояний - для последнего\n",
    "    q = [np.argmax(delta[T-1])]\n",
    "    \n",
    "    # Восстановление последовательности скрытых состояний\n",
    "    for t in range(T-1, 0, -1):\n",
    "        # insert object before index\n",
    "        q.insert(0, psi[t][q[0]])\n",
    "    \n",
    "    return max_prob, q\n",
    "\n",
    "# Заданные параметры модели\n",
    "A = np.array([[0.9, 0.1], [0.2, 0.8]])\n",
    "B = {'A': [0.1, 0.3], 'G': [0.4, 0.2], 'C': [0.4, 0.2], 'T': [0.1, 0.3]}\n",
    "pi = [0.5, 0.5]\n",
    "sequence = list(input())\n",
    "\n",
    "# Вызов функции и вывод результата\n",
    "prob, hidden_states = viterbi_algorithm(A, B, pi, sequence)\n",
    "for x in hidden_states:\n",
    "    if x == 1:\n",
    "        print('N', end='')\n",
    "    else:\n",
    "        print('P', end='')\n"
   ]
  },
  {
   "cell_type": "markdown",
   "metadata": {},
   "source": [
    "## Задание 3\n",
    "\n",
    "\n",
    "На вход подается наблюдаемая последовательность нуклеотидов. Выведите для каждой позиции вероятность того, что она находится в состоянии промоутер и НЕ-промоутер.\n",
    "\n",
    "Ответ состоит из двух строк с последовательностями чисел, разделенных пробелами. В первой строке выведите вероятности состояния `промоутер`, во второй строке – вероятности состояния `НЕ-промоутер`. Выводите числа с точность два знака после запятой.\n",
    "\n",
    "Sample Input:\n",
    "\n",
    "ATCG\n",
    "\n",
    "\n",
    "Sample Output:\n",
    "\n",
    "0.20 0.29 0.59 0.70\n",
    "0.80 0.71 0.41 0.30\n",
    "Напишите программ"
   ]
  }
 ],
 "metadata": {
  "kernelspec": {
   "display_name": "Python 3",
   "language": "python",
   "name": "python3"
  },
  "language_info": {
   "codemirror_mode": {
    "name": "ipython",
    "version": 3
   },
   "file_extension": ".py",
   "mimetype": "text/x-python",
   "name": "python",
   "nbconvert_exporter": "python",
   "pygments_lexer": "ipython3",
   "version": "3.11.7"
  }
 },
 "nbformat": 4,
 "nbformat_minor": 2
}
