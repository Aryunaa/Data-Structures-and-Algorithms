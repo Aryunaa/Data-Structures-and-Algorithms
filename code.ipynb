{
 "cells": [
  {
   "cell_type": "code",
   "execution_count": 1,
   "metadata": {},
   "outputs": [
    {
     "name": "stdout",
     "output_type": "stream",
     "text": [
      "0.20 0.29 0.59 0.70\n",
      "0.80 0.71 0.41 0.30\n"
     ]
    }
   ],
   "source": [
    "# чистовой код \n",
    "import numpy as np\n",
    "\n",
    "def back_forward(A,bkeys_prom, bkeys_np,seq):\n",
    "    T = len(seq)\n",
    "\n",
    "    ap = []\n",
    "    ap.append(0.5*bkeys_prom[seq[0]])\n",
    "\n",
    "    anp = []\n",
    "    anp.append(0.5*bkeys_np[seq[0]])\n",
    "\n",
    "    for t in range(1,T):\n",
    "        j = seq[t]\n",
    "\n",
    "        cur_ap = ap[t-1]*A[0][0]*bkeys_prom[j] + anp[t-1]*A[0][1]*bkeys_prom[j]\n",
    "        cur_anp = ap[t-1]*A[1][0]*bkeys_np[j] + anp[t-1]*A[1][1]*bkeys_np[j] \n",
    "        ap.append(cur_ap)\n",
    "        anp.append(cur_anp)\n",
    "    #print(ap)\n",
    "    #print(anp)      \n",
    "\n",
    "    seq_prob = ap[-1]+anp[-1]\n",
    "    #print(seq_prob)\n",
    "\n",
    "    beta_p = np.zeros(T)\n",
    "    beta_np = np.zeros(T)\n",
    "\n",
    "    beta_p[T-1] = 1\n",
    "    beta_np[T-1] = 1\n",
    "\n",
    "    for t in range(T-2,-1, -1):\n",
    "        emis = seq[t+1]\n",
    "        if (t==T-2):\n",
    "            beta_p[t] = bkeys_prom[emis]*A[0][0] + bkeys_np[emis]*A[1][0]\n",
    "            beta_np[t] = bkeys_prom[emis]*A[0][1] + bkeys_np[emis]*A[1][1]\n",
    "        else:\n",
    "            beta_p[t] = beta_p[t+1]*bkeys_prom[emis]*A[0][0] + beta_np[t+1]*bkeys_np[emis]*A[1][0]\n",
    "            beta_np[t] = beta_p[t+1]*bkeys_prom[emis]*A[0][1] + beta_np[t+1]*bkeys_np[emis]*A[1][1]\n",
    "\n",
    "    #print(beta_p)\n",
    "    #print(beta_np)\n",
    "\n",
    "    alpa_p = np.array(ap)\n",
    "    alpa_np = np.array(anp)\n",
    "\n",
    "    prob_p = np.round(alpa_p*beta_p/seq_prob,2)\n",
    "    prob_np = np.round(alpa_np*beta_np/seq_prob,2)\n",
    "\n",
    "    #print(' '.join(map(str, prob_p)))\n",
    "    #print(' '.join(map(str, prob_np)))\n",
    "\n",
    "    string_p = np.array2string(prob_p, formatter={'float_kind':lambda x: \"%.2f\" % x})\n",
    "    string_np = np.array2string(prob_np, formatter={'float_kind':lambda x: \"%.2f\" % x})\n",
    "    #print(string_p[1:-1])\n",
    "    #print(string_np[1:-1])\n",
    "    return(string_p[1:-1], string_np[1:-1])\n",
    "\n",
    "A1 = np.array([[0.9,0.2],[0.1,0.8]])\n",
    "\n",
    "#seq1 = input()\n",
    "seq1 = input()\n",
    "bkeys_prom1 = {'C':0.4, 'G':0.4, 'A':0.1, 'T':0.1 }\n",
    "bkeys_np1 = {'C':0.2, 'G':0.2, 'A':0.3, 'T':0.3 }\n",
    "\n",
    "ans_p, ans_np = back_forward(A1, bkeys_prom1,bkeys_np1, seq1 )\n",
    "print(ans_p)\n",
    "print(ans_np)"
   ]
  }
 ],
 "metadata": {
  "kernelspec": {
   "display_name": "Python 3",
   "language": "python",
   "name": "python3"
  },
  "language_info": {
   "codemirror_mode": {
    "name": "ipython",
    "version": 3
   },
   "file_extension": ".py",
   "mimetype": "text/x-python",
   "name": "python",
   "nbconvert_exporter": "python",
   "pygments_lexer": "ipython3",
   "version": "3.11.7"
  }
 },
 "nbformat": 4,
 "nbformat_minor": 2
}
